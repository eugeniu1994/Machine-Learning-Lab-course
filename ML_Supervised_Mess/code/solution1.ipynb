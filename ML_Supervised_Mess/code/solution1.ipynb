{
 "cells": [
  {
   "cell_type": "markdown",
   "metadata": {},
   "source": [
    "1- option 2.\n",
    "\n",
    "The test data is assumed to be sampled from the same unknown distribution that the training data is generated ($\\mathcal{D}$). \n",
    "More information on Page 34, of \"Understanding Machine Learning: From Theory to Algorithms\" book.\n"
   ]
  },
  {
   "cell_type": "markdown",
   "metadata": {},
   "source": [
    "2- option 1."
   ]
  },
  {
   "cell_type": "markdown",
   "metadata": {},
   "source": [
    "The probability of having more than of 10 noisy examples in a sample of size 35 drawn from a distribution with $20\\%$ noisy examples can be computed as: \n",
    "$p(x > 10) = 1 - p(x \\leq 10) = 1- (p (x = 0) + \\cdots + p(x = 10))$\n",
    "where each of these probabilities is a binomial trail. Hence, the solution can be computed as:\n",
    "$1 - (\\sum_{i=0}^{10}{35 \\choose i}(0.2)^i (0.8)^{35-i}) = 0.07$\n"
   ]
  },
  {
   "cell_type": "code",
   "execution_count": 1,
   "metadata": {
    "scrolled": true
   },
   "outputs": [
    {
     "name": "stdout",
     "output_type": "stream",
     "text": [
      "probability of sampling 10 or less noisy examples: 0.93\n",
      "probability of sampling  more than 10 noisy examples:  0.07\n"
     ]
    }
   ],
   "source": [
    "import numpy as np\n",
    "import math\n",
    "def binom(n, k):\n",
    "    #computes the binomial coefficient \n",
    "    return math.factorial(n) // math.factorial(k) // math.factorial(n - k)\n",
    "n=35\n",
    "p=0.2\n",
    "sum_prob=0\n",
    "#sums up the probability of the cases where we have 10 or less noisy example\n",
    "for N in range(11):\n",
    "    sum_prob+=(binom(n, N)*np.power(p,N)*np.power(1-p,n-N))\n",
    "print(\"probability of sampling 10 or less noisy examples:\",np.round(sum_prob,2))\n",
    "print(\"probability of sampling  more than 10 noisy examples: \",np.round(1-sum_prob,2))\n"
   ]
  },
  {
   "cell_type": "markdown",
   "metadata": {},
   "source": [
    "3- option 2.\n",
    "\n",
    "Note that in both cases, we want to increase TP cases.  \n",
    "\n",
    "A) In this problem, we are interested in decreasing FN (a term in the recall denominator), which corresponds to the cancer patients classified as healthy.\n",
    "\n",
    "B) The goal is to avoid missing any non-spam email. Therefore reducing FP ( a term in the precision denominator) will be ideal. \n"
   ]
  },
  {
   "cell_type": "markdown",
   "metadata": {},
   "source": [
    "4- option 1"
   ]
  },
  {
   "cell_type": "code",
   "execution_count": 3,
   "metadata": {},
   "outputs": [
    {
     "name": "stdout",
     "output_type": "stream",
     "text": [
      "root mean square error:  5.26\n"
     ]
    }
   ],
   "source": [
    "import pandas as pd\n",
    "import numpy as np\n",
    "from sklearn.model_selection import train_test_split\n",
    "from sklearn.linear_model import LinearRegression\n",
    "from sklearn.metrics import mean_squared_error\n",
    "#import the data\n",
    "X = pd.read_csv(\"./X.csv\")\n",
    "Y = pd.read_csv(\"./Y.csv\") \n",
    "#splits the data to training and test sets\n",
    "X_train, X_test, Y_train, Y_test = train_test_split(X, Y, test_size = 0.3, random_state=1)\n",
    "#trains the LR model\n",
    "lin_model = LinearRegression(fit_intercept = False).fit(X_train, Y_train)\n",
    "#prediction\n",
    "y_test_predict = lin_model.predict(X_test)\n",
    "#RMSE computation\n",
    "rmse = (np.sqrt(mean_squared_error(Y_test, y_test_predict)))\n",
    "print(\"root mean square error: \",round(rmse,2))"
   ]
  },
  {
   "cell_type": "markdown",
   "metadata": {},
   "source": [
    "Or you can simply follow the formulations in the lecture 1 to build the LR model as:"
   ]
  },
  {
   "cell_type": "code",
   "execution_count": 5,
   "metadata": {},
   "outputs": [
    {
     "name": "stdout",
     "output_type": "stream",
     "text": [
      "root mean square error:  5.26\n"
     ]
    }
   ],
   "source": [
    "from numpy.linalg import inv\n",
    "#use training set to compute the regression coefficient\n",
    "X_arr=np.asanyarray(X_train)\n",
    "Y_arr=np.asanyarray(Y_train)\n",
    "#compute the regression coeffient beta, formula page 18, lecture 1\n",
    "XTX=inv(np.matmul(np.transpose(X_arr),X_arr))\n",
    "XTY=np.matmul(np.transpose(X_arr),Y_arr)\n",
    "beta=np.matmul(XTX,XTY)\n",
    "#prediction\n",
    "y_pred=np.matmul(np.transpose(beta),np.transpose((np.asanyarray(X_test))))\n",
    "#RMSE computation\n",
    "rmse = (np.sqrt(mean_squared_error(Y_test, np.transpose(y_pred))))\n",
    "print(\"root mean square error: \",round(rmse,2))"
   ]
  },
  {
   "cell_type": "markdown",
   "metadata": {},
   "source": [
    "5- option 3."
   ]
  },
  {
   "cell_type": "code",
   "execution_count": 12,
   "metadata": {},
   "outputs": [
    {
     "name": "stdout",
     "output_type": "stream",
     "text": [
      "K = 2 ,  Average:  6.03 ,  Variance:  0.37\n",
      "K = 5 ,  Average:  5.72 ,  Variance:  0.5\n"
     ]
    }
   ],
   "source": [
    "from sklearn.model_selection import KFold\n",
    "def avg_var_CV(k):\n",
    "    #computes mean and variance of the RMSEs over test folds\n",
    "    #k in the number of folds for cross-validation\n",
    "    rmse_list = list()\n",
    "    #splits the training set to training and test folds\n",
    "    kf = KFold(n_splits=k, random_state=1, shuffle=True)\n",
    "    for train_index, test_index in kf.split(X_arr):\n",
    "        xcv_train, xcv_test = X_arr[train_index], X_arr[test_index]\n",
    "        ycv_train, ycv_test = Y_arr[train_index], Y_arr[test_index]\n",
    "        #fits the LR model on trainin fold\n",
    "        lin_model = LinearRegression(fit_intercept = False).fit(xcv_train, ycv_train)\n",
    "        #tests the model on test fold and computes RMSE\n",
    "        rmse_list.append((np.sqrt(mean_squared_error(ycv_test, lin_model.predict(xcv_test)))))\n",
    "        # print the mean and variance of the RMSEs for the given k\n",
    "    return print(\"K =\",k,\", \", \"Average: \",round(np.mean(rmse_list),2),\", \",\"Variance: \",round(np.var(rmse_list),2) )\n",
    "avg_var_CV(2)\n",
    "avg_var_CV(5)\n",
    "\n",
    "    \n",
    "   "
   ]
  }
 ],
 "metadata": {
  "kernelspec": {
   "display_name": "Python 3",
   "language": "python",
   "name": "python3"
  },
  "language_info": {
   "codemirror_mode": {
    "name": "ipython",
    "version": 3
   },
   "file_extension": ".py",
   "mimetype": "text/x-python",
   "name": "python",
   "nbconvert_exporter": "python",
   "pygments_lexer": "ipython3",
   "version": "3.6.9"
  }
 },
 "nbformat": 4,
 "nbformat_minor": 2
}
